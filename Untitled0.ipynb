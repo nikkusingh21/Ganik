{
  "nbformat": 4,
  "nbformat_minor": 0,
  "metadata": {
    "colab": {
      "provenance": [],
      "authorship_tag": "ABX9TyPbRPPoEVX0Dhq2xJ/d8Wxs",
      "include_colab_link": true
    },
    "kernelspec": {
      "name": "python3",
      "display_name": "Python 3"
    },
    "language_info": {
      "name": "python"
    }
  },
  "cells": [
    {
      "cell_type": "markdown",
      "metadata": {
        "id": "view-in-github",
        "colab_type": "text"
      },
      "source": [
        "<a href=\"https://colab.research.google.com/github/nikkusingh21/Ganik/blob/main/Untitled0.ipynb\" target=\"_parent\"><img src=\"https://colab.research.google.com/assets/colab-badge.svg\" alt=\"Open In Colab\"/></a>"
      ]
    },
    {
      "cell_type": "code",
      "source": [
        "x = 5\n",
        "y = 6\n",
        "print(x+y)"
      ],
      "metadata": {
        "colab": {
          "base_uri": "https://localhost:8080/"
        },
        "id": "re2v7e_1L6fI",
        "outputId": "0ff952ee-06cb-4997-c852-edbe15149958"
      },
      "execution_count": 2,
      "outputs": [
        {
          "output_type": "stream",
          "name": "stdout",
          "text": [
            "11\n"
          ]
        }
      ]
    },
    {
      "cell_type": "code",
      "source": [
        "while True:\n",
        "  x = int(input(\"Enter your number: \"))\n",
        "  y = int(input(\"Enter your number: \"))\n",
        "  print(x+y)"
      ],
      "metadata": {
        "colab": {
          "base_uri": "https://localhost:8080/"
        },
        "id": "8KRYLhObOYr3",
        "outputId": "67e5d351-565b-49f4-9775-9f1669dd40eb"
      },
      "execution_count": null,
      "outputs": [
        {
          "output_type": "stream",
          "name": "stdout",
          "text": [
            "Enter your number: 2\n",
            "Enter your number: 1\n",
            "3\n",
            "Enter your number: 8\n",
            "Enter your number: 6\n",
            "14\n"
          ]
        }
      ]
    },
    {
      "cell_type": "code",
      "source": [
        "x = int(input(\"_\"))\n",
        "y = 7\n",
        "print(x+y)"
      ],
      "metadata": {
        "id": "4iCOt4NJPUQn"
      },
      "execution_count": null,
      "outputs": []
    },
    {
      "cell_type": "code",
      "source": [
        "while True:\n",
        "    x = int(input(\"Enter your number: \"))\n",
        "    y = int(input(\"Enter your number: \"))\n",
        "    c = input(\"Enter your operator: \")\n",
        "    if c == \"+\":\n",
        "        print(x+y)\n",
        "    elif c == \"-\" :\n",
        "        print(x-y)\n",
        "    else:\n",
        "        print(\" \")\n"
      ],
      "metadata": {
        "id": "nUX7oD2bPlyh"
      },
      "execution_count": null,
      "outputs": []
    }
  ]
}