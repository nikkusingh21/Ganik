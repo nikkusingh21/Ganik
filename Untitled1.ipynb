{
  "nbformat": 4,
  "nbformat_minor": 0,
  "metadata": {
    "colab": {
      "provenance": [],
      "authorship_tag": "ABX9TyMc4kNhW2jKD6ZJLx54xFJl",
      "include_colab_link": true
    },
    "kernelspec": {
      "name": "python3",
      "display_name": "Python 3"
    },
    "language_info": {
      "name": "python"
    }
  },
  "cells": [
    {
      "cell_type": "markdown",
      "metadata": {
        "id": "view-in-github",
        "colab_type": "text"
      },
      "source": [
        "<a href=\"https://colab.research.google.com/github/nikkusingh21/Ganik/blob/main/Untitled1.ipynb\" target=\"_parent\"><img src=\"https://colab.research.google.com/assets/colab-badge.svg\" alt=\"Open In Colab\"/></a>"
      ]
    },
    {
      "cell_type": "code",
      "execution_count": 10,
      "metadata": {
        "colab": {
          "base_uri": "https://localhost:8080/"
        },
        "id": "S0UHZ995bgDa",
        "outputId": "0379e1f9-dbb2-4f04-9fbb-254c68b3422b"
      },
      "outputs": [
        {
          "output_type": "stream",
          "name": "stdout",
          "text": [
            "you may have flu.\n"
          ]
        }
      ],
      "source": [
        "def diagnose(symptoms):\n",
        "    if 'fever' in symptoms and 'cough' in symptoms:\n",
        "        return'you may have flu.'\n",
        "    elif 'chest pain' in symptoms and 'shortness of breath' in symptoms:\n",
        "        return 'you may have heart disease.'\n",
        "    elif 'headache' in symptoms and 'nausea' in symptoms:\n",
        "        return 'you may have migraine.'\n",
        "    elif 'fatigue' in symptoms and 'weight loss' in symptoms:\n",
        "        return 'you may have diabetes'\n",
        "    elif 'joint pain' in symptoms and 'rash' in symptoms:\n",
        "        return 'you may have arthritis.'\n",
        "    else:\n",
        "        return 'consult a doctor for further diagnosis.'\n",
        "symptoms = ['fever','cough']\n",
        "print(diagnose(symptoms))"
      ]
    }
  ]
}